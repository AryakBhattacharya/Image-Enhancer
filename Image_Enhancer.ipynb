{
  "nbformat": 4,
  "nbformat_minor": 0,
  "metadata": {
    "colab": {
      "provenance": [],
      "authorship_tag": "ABX9TyNTa/bD9aZikVDhs6UnTEDI",
      "include_colab_link": true
    },
    "kernelspec": {
      "name": "python3",
      "display_name": "Python 3"
    },
    "language_info": {
      "name": "python"
    }
  },
  "cells": [
    {
      "cell_type": "markdown",
      "metadata": {
        "id": "view-in-github",
        "colab_type": "text"
      },
      "source": [
        "<a href=\"https://colab.research.google.com/github/AryakBhattacharya/Image-Enhancer/blob/main/Image_Enhancer.ipynb\" target=\"_parent\"><img src=\"https://colab.research.google.com/assets/colab-badge.svg\" alt=\"Open In Colab\"/></a>"
      ]
    },
    {
      "cell_type": "code",
      "source": [
        "try:\n",
        "    import google.colab\n",
        "    from google.colab import drive\n",
        "    drive.mount('/content/drive', force_remount = True)\n",
        "    IN_COLAB = True\n",
        "except:\n",
        "    IN_COLAB = False"
      ],
      "metadata": {
        "id": "-zk6bRyzkebZ",
        "colab": {
          "base_uri": "https://localhost:8080/"
        },
        "outputId": "9eccb1f5-1b1f-424b-cb80-8cc273338deb"
      },
      "execution_count": 11,
      "outputs": [
        {
          "output_type": "stream",
          "name": "stdout",
          "text": [
            "Mounted at /content/drive\n"
          ]
        }
      ]
    },
    {
      "cell_type": "code",
      "source": [
        "import os\n",
        "\n",
        "if IN_COLAB:\n",
        "    root_path = '/content/drive/MyDrive/Colab Notebooks/Image Enhancing'\n",
        "else:\n",
        "    root_path = 'Enter local path'\n",
        "\n",
        "os.chdir(root_path)"
      ],
      "metadata": {
        "id": "Om_JFWFXkeNR"
      },
      "execution_count": 12,
      "outputs": []
    },
    {
      "cell_type": "code",
      "execution_count": null,
      "metadata": {
        "id": "R46yLlhakX5L"
      },
      "outputs": [],
      "source": [
        "# # Install necessary libraries\n",
        "# !pip install opencv-python\n",
        "# !pip install Pillow\n",
        "\n",
        "import cv2\n",
        "import numpy as np\n",
        "from PIL import Image, ImageFilter\n",
        "from io import BytesIO\n",
        "from IPython.display import display, HTML, Image as IPImage\n",
        "from google.colab import files, drive\n",
        "\n",
        "# # Connect to Google Drive\n",
        "# drive.mount('/content/drive')\n",
        "\n",
        "# # Set the root path for saving images\n",
        "# root_path = '/content/drive/MyDrive/Colab Notebooks/Image Enhancing'\n",
        "\n",
        "# Create a new folder for saving images if it doesn't exist\n",
        "output_folder = 'Enhanced_Images'\n",
        "output_path = f'{root_path}/{output_folder}'\n",
        "!mkdir -p \"$output_path\"\n",
        "\n",
        "# Function to upload an image file\n",
        "def upload_image():\n",
        "    uploaded = files.upload()\n",
        "    if len(uploaded) == 0:\n",
        "        return None\n",
        "    image_path = list(uploaded.keys())[0]\n",
        "    return image_path\n",
        "\n",
        "# Function to enhance image quality without resizing\n",
        "def enhance_image(input_image_path):\n",
        "    # Read the image\n",
        "    img = cv2.imread(input_image_path)\n",
        "\n",
        "    # Increase deblurring effect (adjust the kernel size)\n",
        "    img = cv2.GaussianBlur(img, (11, 11), 0)\n",
        "\n",
        "    # Increase depixelation effect (adjust the interpolation method)\n",
        "    img = cv2.resize(img, None, fx=0.5, fy=0.5, interpolation=cv2.INTER_LINEAR)\n",
        "\n",
        "    # Add sharpness and clarity\n",
        "    img = cv2.filter2D(img, -1, kernel=np.array([[-1, -1, -1], [-1, 9, -1], [-1, -1, -1]]))\n",
        "\n",
        "    return img\n",
        "\n",
        "# Function to display the enhanced image\n",
        "def display_image(image):\n",
        "    img_pil = Image.fromarray(cv2.cvtColor(image, cv2.COLOR_BGR2RGB))\n",
        "    img_byte_array = BytesIO()\n",
        "    img_pil.save(img_byte_array, format='PNG')\n",
        "    display(IPImage(data=img_byte_array.getvalue(), format='png'))\n",
        "\n",
        "# Function to save images\n",
        "def save_images(original_image, enhanced_image, output_path, image_name):\n",
        "    original_path = f'{output_path}/{image_name}_original.png'\n",
        "    enhanced_path = f'{output_path}/{image_name}_enhanced.png'\n",
        "\n",
        "    cv2.imwrite(original_path, original_image)\n",
        "    cv2.imwrite(enhanced_path, enhanced_image)\n",
        "\n",
        "    print(f\"Original image saved to: {original_path}\")\n",
        "    print(f\"Enhanced image saved to: {enhanced_path}\")\n",
        "\n",
        "# Main program\n",
        "# Upload image\n",
        "image_path = upload_image()\n",
        "\n",
        "if image_path:\n",
        "    # Enhance the image without resizing\n",
        "    enhanced_image = enhance_image(image_path)\n",
        "\n",
        "    # Display the original and enhanced images\n",
        "    print(\"Original Image:\")\n",
        "    display(Image.open(image_path))\n",
        "\n",
        "    print(\"Enhanced Image:\")\n",
        "    display_image(enhanced_image)\n",
        "\n",
        "    # Save images to Google Drive\n",
        "    image_name = image_path.split('/')[-1].split('.')[0]\n",
        "    save_images(cv2.imread(image_path), enhanced_image, output_path, image_name)\n"
      ]
    }
  ]
}